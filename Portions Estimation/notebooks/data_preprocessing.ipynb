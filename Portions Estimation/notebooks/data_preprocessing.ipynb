{
 "cells": [
  {
   "metadata": {},
   "cell_type": "markdown",
   "source": "Ingredients EDA",
   "id": "8ae611e442804f78"
  },
  {
   "metadata": {
    "ExecuteTime": {
     "end_time": "2025-01-01T10:40:57.268901Z",
     "start_time": "2025-01-01T10:40:57.262385Z"
    }
   },
   "cell_type": "code",
   "source": [
    "def extract_ingredients(row):\n",
    "    row_values = row.tolist()\n",
    "    ingredients = []\n",
    "    for i in range(1, len(row_values) - 1): # First column is dish id\n",
    "        current_value = str(row_values[i])\n",
    "        next_value = str(row_values[i + 1])\n",
    "\n",
    "        if current_value.startswith('ingr_'):\n",
    "            if next_value not in sauces:\n",
    "                ingredients.append(next_value)\n",
    "    return ingredients"
   ],
   "id": "451c4c174c274df7",
   "outputs": [],
   "execution_count": 32
  },
  {
   "metadata": {
    "ExecuteTime": {
     "end_time": "2025-01-01T10:40:58.191046Z",
     "start_time": "2025-01-01T10:40:58.185731Z"
    }
   },
   "cell_type": "code",
   "source": [
    "def add_unique_items(list1, list2):\n",
    "    for item in list2:\n",
    "        if item not in list1:\n",
    "          list1.append(item)\n",
    "    return list1"
   ],
   "id": "952d246adf8fdda",
   "outputs": [],
   "execution_count": 33
  },
  {
   "metadata": {
    "ExecuteTime": {
     "end_time": "2025-01-01T10:41:07.072441Z",
     "start_time": "2025-01-01T10:41:06.795411Z"
    }
   },
   "cell_type": "code",
   "source": [
    "import pandas as pd\n",
    "import os\n",
    "from tqdm import tqdm\n",
    "dirname = os.path.dirname(os.getcwd())\n",
    "input_filepath = os.path.join(dirname, r\"data/raw/Nutrition5kModified700.csv\")\n",
    "sauces_filepath = os.path.join(dirname, r\"data/raw/nutrition5k_dataset_metadata_ingredients_metadata.csv\")\n",
    "df = pd.read_csv(input_filepath, header=None)\n",
    "sauces_df = pd.read_csv(sauces_filepath)\n",
    "sauces = sauces_df[sauces_df['IsSauce'] == 'Yes']\n",
    "sauces = sauces['ingr'].tolist()\n",
    "total_ingredients = []\n",
    "for _, row in tqdm(df.iterrows(), total=len(df)):\n",
    "    curr_ingredients = extract_ingredients(row)\n",
    "    if len(total_ingredients) == 0:\n",
    "        total_ingredients = curr_ingredients\n",
    "    else:\n",
    "        total_ingredients = add_unique_items(total_ingredients, curr_ingredients)"
   ],
   "id": "46b421cb0798bf5f",
   "outputs": [
    {
     "name": "stderr",
     "output_type": "stream",
     "text": [
      "100%|██████████| 690/690 [00:00<00:00, 3224.30it/s]\n"
     ]
    }
   ],
   "execution_count": 35
  }
 ],
 "metadata": {
  "kernelspec": {
   "display_name": "Python 3",
   "language": "python",
   "name": "python3"
  },
  "language_info": {
   "codemirror_mode": {
    "name": "ipython",
    "version": 2
   },
   "file_extension": ".py",
   "mimetype": "text/x-python",
   "name": "python",
   "nbconvert_exporter": "python",
   "pygments_lexer": "ipython2",
   "version": "2.7.6"
  }
 },
 "nbformat": 4,
 "nbformat_minor": 5
}
